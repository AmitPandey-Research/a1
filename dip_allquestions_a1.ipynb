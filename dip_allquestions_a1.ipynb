{
  "nbformat": 4,
  "nbformat_minor": 0,
  "metadata": {
    "colab": {
      "name": "dip_allquestions_a1.ipynb",
      "provenance": [],
      "mount_file_id": "1dJBKr9kBbWJ2f598ROLgQYj2o_aYyUbo",
      "authorship_tag": "ABX9TyOvC6JQie0Iny7WLZV5FHc7",
      "include_colab_link": true
    },
    "kernelspec": {
      "name": "python3",
      "display_name": "Python 3"
    }
  },
  "cells": [
    {
      "cell_type": "markdown",
      "metadata": {
        "id": "view-in-github",
        "colab_type": "text"
      },
      "source": [
        "<a href=\"https://colab.research.google.com/github/AmitPandey-Research/a1/blob/master/dip_allquestions_a1.ipynb\" target=\"_parent\"><img src=\"https://colab.research.google.com/assets/colab-badge.svg\" alt=\"Open In Colab\"/></a>"
      ]
    },
    {
      "cell_type": "markdown",
      "metadata": {
        "id": "_6G7rxcieWhk",
        "colab_type": "text"
      },
      "source": [
        "Name : Amit Pandey\n",
        "Roll no : 2020702009"
      ]
    },
    {
      "cell_type": "code",
      "metadata": {
        "id": "eITeNeQdZyG4",
        "colab_type": "code",
        "colab": {}
      },
      "source": [
        "# importing all the neccessary libraries. dont forget to mount the drive\n",
        "\n",
        "import numpy as np\n",
        "import cv2 # to read files / images using cv2\n",
        "import os #importing operating system \n",
        "import matplotlib.pyplot as plt\n",
        "import matplotlib.image as img\n",
        "from google.colab.patches import cv2_imshow # in new version cv2.imshow doesnt work\n",
        "IMAGES_FOLDER_PATH = \"/content/drive/My Drive/images\" # creating a shorter name to store the path"
      ],
      "execution_count": null,
      "outputs": []
    },
    {
      "cell_type": "code",
      "metadata": {
        "id": "PHj1NeP3bEPm",
        "colab_type": "code",
        "colab": {}
      },
      "source": [
        "# reading all the images :\n",
        "fg = cv2.imread(os.path.join(IMAGES_FOLDER_PATH,\"fg.jpg\"))\n",
        "bg= cv2.imread(os.path.join(IMAGES_FOLDER_PATH,\"bg.jpg\"))\n",
        "sm= cv2.imread(os.path.join(IMAGES_FOLDER_PATH,\"skyfallmansion.jpg\"))\n",
        "my= cv2.imread(os.path.join(IMAGES_FOLDER_PATH,\"my.JPG\"))\n",
        "q4_2= cv2.imread(os.path.join(IMAGES_FOLDER_PATH,\"007_test1.png\"))\n",
        "q4_3= cv2.imread(os.path.join(IMAGES_FOLDER_PATH,\"007_test2.png\"))\n",
        "q4_4= cv2.imread(os.path.join(IMAGES_FOLDER_PATH,\"tanner.jpg\"))\n",
        "q4_4_corrupt= cv2.imread(os.path.join(IMAGES_FOLDER_PATH,\"tanner_corrupt.jpg\"))\n",
        "qb= cv2.imread(os.path.join(IMAGES_FOLDER_PATH,\"quantum_bad.jpg\"))\n",
        "pr= cv2.imread(os.path.join(IMAGES_FOLDER_PATH,\"practice_range1.jpg\"))\n",
        "hist= cv2.imread(os.path.join(IMAGES_FOLDER_PATH,\"hist.jpg\"))\n",
        "map= cv2.imread(os.path.join(IMAGES_FOLDER_PATH,\"Map.jpg\"))\n",
        "si= cv2.imread(os.path.join(IMAGES_FOLDER_PATH,\"satellite_img.jpg\"))"
      ],
      "execution_count": null,
      "outputs": []
    },
    {
      "cell_type": "code",
      "metadata": {
        "id": "vvTc321z1Rcg",
        "colab_type": "code",
        "colab": {}
      },
      "source": [
        "# diplay all the images\n",
        "\n",
        "#cv2_imshow(fg)\n",
        "#cv2_imshow(bg)\n",
        "#cv2_imshow(sm)\n",
        "#cv2_imshow(my)\n",
        "#cv2_imshow(q4_2)\n",
        "#cv2_imshow(q4_3)\n",
        "#cv2_imshow(q4_4)\n",
        "#cv2_imshow(q4_4_corrupt)\n",
        "#cv2_imshow(qb)\n",
        "#cv2_imshow(pr)\n",
        "#cv2_imshow(hist)\n",
        "#cv2_imshow(map)\n",
        "#cv2_imshow(si)"
      ],
      "execution_count": null,
      "outputs": []
    },
    {
      "cell_type": "code",
      "metadata": {
        "id": "Mcg7FmsK8M4d",
        "colab_type": "code",
        "colab": {}
      },
      "source": [
        "myresize = np.copy(my)\n",
        "resized = cv2.resize(myresize, (1280,720))"
      ],
      "execution_count": null,
      "outputs": []
    },
    {
      "cell_type": "markdown",
      "metadata": {
        "id": "1KR46f5N59Ic",
        "colab_type": "text"
      },
      "source": [
        "# Question 1:\n",
        "\n",
        "To achieve green screen, we replace green in our foreground image, with the pixels of background image. i.e we compare pixel value (over a range of green color) corresponding to a location in the fg image, and if it is in that range (green) we replace it with pixel value of background image corresponding to that location"
      ]
    },
    {
      "cell_type": "code",
      "metadata": {
        "id": "BlVxIo4S68DH",
        "colab_type": "code",
        "colab": {}
      },
      "source": [
        "copyfg = np.copy(fg)\n",
        "copyfg[fg[:,:,1]>210] = bg[fg[:,:,1]>210]\n",
        "cv2_imshow(copyfg)\n",
        "#for skyfall mansion\n",
        "copysm = sm[80:800,:1280]\n",
        "copyfg2 = np.copy(fg)\n",
        "copyfg2[fg[:,:,1]>210] = copysm[fg[:,:,1]>210]\n",
        "cv2_imshow(copyfg2)\n",
        "#for my iamge\n",
        "copyfg3 = np.copy(fg)\n",
        "copyfg3[fg[:,:,1]>210] = resized[fg[:,:,1]>210]\n",
        "cv2_imshow(copyfg3)"
      ],
      "execution_count": null,
      "outputs": []
    },
    {
      "cell_type": "markdown",
      "metadata": {
        "id": "SXvO6GE6Dm6f",
        "colab_type": "text"
      },
      "source": [
        "# Question 2:\n",
        "\n",
        "## Part -1 :\n",
        "#### No. of pixels = 720x1280x3 = 2764800\n",
        "#### Each pixel = 8 bits\n",
        "#### Total no. of bits = 22118400\n",
        "#### 1 GB = $ 8 * 10^9$ bits\n",
        "#### No. of images = $ 8 * 10^9$ / 22118400 = 361\n",
        "\n",
        "## Part-2:\n",
        "#### Given a 'square' and 'color' image of 168.75 MB\n",
        "#### Each channel = 56.25 MB = 56.25 x 8 Mb\n",
        "#### Each pixel = 8 bits\n",
        "#### Each channel = ( 56.25 x 8 / 8 ) x $10^6$ pixels\n",
        "#### Each side = $ sqrt(56250000) $ = 7500 pixels\n",
        "#### Dimension of Image = 7,500 x 7,5000 px\n"
      ]
    },
    {
      "cell_type": "markdown",
      "metadata": {
        "id": "vgm6AMj-ORlO",
        "colab_type": "text"
      },
      "source": [
        "# Question 3 :\n",
        "#### height of object (Ho) = 32.8cm\n",
        "#### height of image (Hi) = (10 mm/1024) x 50 = 0.0488 cm\n",
        "#### distance of image (Di) = 62.5cm.\n",
        "#### distance of object (Do) = 41984 cm\n",
        "\n",
        "#### Relation = $ Ho/Hi = Do/Di $"
      ]
    },
    {
      "cell_type": "code",
      "metadata": {
        "id": "1zGqLhyi50v5",
        "colab_type": "code",
        "colab": {}
      },
      "source": [
        "# convert images to grayscale\n",
        "\n",
        "q4_2gray = cv2.cvtColor(q4_2, cv2.COLOR_BGR2GRAY)\n",
        "q4_3gray = cv2.cvtColor(q4_3, cv2.COLOR_BGR2GRAY)\n"
      ],
      "execution_count": null,
      "outputs": []
    },
    {
      "cell_type": "code",
      "metadata": {
        "id": "FmCZVPH-7sq9",
        "colab_type": "code",
        "colab": {}
      },
      "source": [
        "cv2_imshow(q4_2gray)\n",
        "cv2_imshow(q4_3gray)"
      ],
      "execution_count": null,
      "outputs": []
    },
    {
      "cell_type": "code",
      "metadata": {
        "id": "AuYiuDdq4HKo",
        "colab_type": "code",
        "colab": {}
      },
      "source": [
        "# bitquantization\n",
        "\n",
        "def bitQuantizeImage(Im,k) :\n",
        "  eightbit = np.copy(Im)\n",
        "  reduced = np.int((Im/255)*((2**k)-1))\n",
        "  return reduced"
      ],
      "execution_count": null,
      "outputs": []
    },
    {
      "cell_type": "code",
      "metadata": {
        "id": "n9xWwJL0AXKw",
        "colab_type": "code",
        "colab": {}
      },
      "source": [
        "def bitDeQuantizeImage(Im,k) :\n",
        "  eightbit = np.copy(Im)\n",
        "  reduced = np.int((Im/255)*((2**k)-1))\n",
        "  return reduced"
      ],
      "execution_count": null,
      "outputs": []
    },
    {
      "cell_type": "code",
      "metadata": {
        "id": "MrSpre_S5Mjt",
        "colab_type": "code",
        "colab": {}
      },
      "source": [
        "quantizedtest = bitQuantizeImage(q4_2gray,4)\n",
        "cv2_imshow(quantizedtest) # if we show the quantized image directlty , it appears to be dark. \n",
        "# We need to dequantize / map lower bit values to corresponding, higher bit values to show the correct picture."
      ],
      "execution_count": null,
      "outputs": []
    },
    {
      "cell_type": "code",
      "metadata": {
        "id": "Xsq7EU9_GHza",
        "colab_type": "code",
        "colab": {}
      },
      "source": [
        "import plotly.express as px\n",
        "fig2 = px.imshow(quantizedtest, color_continuous_scale='gray',title='4-bit image (scaled to colormap range)')\n",
        "fig2.show()\n",
        "fig3 = px.imshow(q4_2gray, color_continuous_scale='gray',title='8-bit image (original)')\n",
        "fig3.show()"
      ],
      "execution_count": null,
      "outputs": []
    },
    {
      "cell_type": "code",
      "metadata": {
        "id": "s4DpIRHHcXJB",
        "colab_type": "code",
        "colab": {}
      },
      "source": [
        "figxx = px.imshow(quantizedtest, color_continuous_scale='gray',title='4-bit image (raw)',range_color=[0,255])\n",
        "figxx.show()"
      ],
      "execution_count": null,
      "outputs": []
    }
  ]
}